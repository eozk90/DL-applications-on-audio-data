{
 "cells": [
  {
   "cell_type": "code",
   "execution_count": 3,
   "metadata": {},
   "outputs": [],
   "source": [
    "import math\n",
    "import numpy"
   ]
  },
  {
   "cell_type": "code",
   "execution_count": 8,
   "metadata": {},
   "outputs": [
    {
     "name": "stdout",
     "output_type": "stream",
     "text": [
      "0.61064\n"
     ]
    }
   ],
   "source": [
    "def sigmoid(x):\n",
    "    y = 1.0/(1+math.exp(-x))\n",
    "    return y\n",
    "\n",
    "def activate(inputs, weights):\n",
    "    #perform net input\n",
    "    h = 0\n",
    "    for x, w in zip(inputs, weights):\n",
    "        h += x*w\n",
    "    \n",
    "    #perform the activation\n",
    "    return sigmoid(h)\n",
    "    \n",
    "    \n",
    "if __name__ == \"__main__\":\n",
    "    inputs = [.5, .3, .2]\n",
    "    weights = [.4, .7, .2]\n",
    "    output = activate(inputs ,weights)\n",
    "    print(\"{:.5f}\".format(output))"
   ]
  },
  {
   "cell_type": "code",
   "execution_count": null,
   "metadata": {},
   "outputs": [],
   "source": []
  }
 ],
 "metadata": {
  "kernelspec": {
   "display_name": "Python 3",
   "language": "python",
   "name": "python3"
  },
  "language_info": {
   "codemirror_mode": {
    "name": "ipython",
    "version": 3
   },
   "file_extension": ".py",
   "mimetype": "text/x-python",
   "name": "python",
   "nbconvert_exporter": "python",
   "pygments_lexer": "ipython3",
   "version": "3.8.5"
  }
 },
 "nbformat": 4,
 "nbformat_minor": 4
}
