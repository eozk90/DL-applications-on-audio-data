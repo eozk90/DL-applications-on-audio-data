{
 "cells": [
  {
   "cell_type": "code",
   "execution_count": 1,
   "metadata": {},
   "outputs": [
    {
     "name": "stdout",
     "output_type": "stream",
     "text": [
      "The network input is: [0.23402048 0.42203184 0.26988898]\n",
      "The network output is: [0.91183703 0.83853396]\n"
     ]
    }
   ],
   "source": [
    "import numpy as np\n",
    "\n",
    "class MLP:\n",
    "    \n",
    "    #constructor\n",
    "    def __init__(self,num_inputs = 3,num_hidden = [3,5],num_outputs=2):\n",
    "        \n",
    "        self.num_inputs = num_inputs\n",
    "        self.num_hidden = num_hidden\n",
    "        self.num_outputs = num_outputs\n",
    "        \n",
    "        layers = [self.num_inputs] + self.num_hidden + [self.num_outputs]\n",
    "        \n",
    "        #initiate random weights\n",
    "        self.weights = []\n",
    "        for i in range(len(layers)-1):\n",
    "            w = np.random.rand(layers[i], layers[i+1])\n",
    "            self.weights.append(w)\n",
    "            \n",
    "    def forward_propagate(self, inputs):\n",
    "        activations = inputs\n",
    "        \n",
    "        for w in self.weights:\n",
    "            #calculate net inputs\n",
    "            net_inputs = np.dot(activations, w)\n",
    "            #calculate the activations\n",
    "            activations = self._sigmoid(net_inputs)\n",
    "            \n",
    "        return activations\n",
    "    \n",
    "    def _sigmoid(self, x):\n",
    "        return 1/(1+np.exp(-x))\n",
    "    \n",
    "if __name__ == \"__main__\":\n",
    "    \n",
    "    #create an MLP\n",
    "    mlp= MLP()\n",
    "    #create some inputs\n",
    "    inputs = np.random.rand(mlp.num_inputs)\n",
    "    #perform forward prop\n",
    "    outputs = mlp.forward_propagate(inputs)\n",
    "    #print the results\n",
    "    print(\"The network input is: {}\".format(inputs))\n",
    "    print(\"The network output is: {}\".format(outputs))"
   ]
  },
  {
   "cell_type": "code",
   "execution_count": null,
   "metadata": {},
   "outputs": [],
   "source": []
  }
 ],
 "metadata": {
  "kernelspec": {
   "display_name": "Python 3",
   "language": "python",
   "name": "python3"
  },
  "language_info": {
   "codemirror_mode": {
    "name": "ipython",
    "version": 3
   },
   "file_extension": ".py",
   "mimetype": "text/x-python",
   "name": "python",
   "nbconvert_exporter": "python",
   "pygments_lexer": "ipython3",
   "version": "3.8.5"
  }
 },
 "nbformat": 4,
 "nbformat_minor": 4
}
