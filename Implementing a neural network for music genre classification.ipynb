{
 "cells": [
  {
   "cell_type": "markdown",
   "metadata": {},
   "source": [
    "## Types of batching"
   ]
  },
  {
   "cell_type": "markdown",
   "metadata": {},
   "source": [
    "Stochastic(1 sample at a time),Full batch (on the whole training set), mini-batch (16-128 samples)"
   ]
  },
  {
   "cell_type": "code",
   "execution_count": 7,
   "metadata": {},
   "outputs": [
    {
     "name": "stdout",
     "output_type": "stream",
     "text": [
      "(9996, 130, 13)\n",
      "Model: \"sequential_1\"\n",
      "_________________________________________________________________\n",
      "Layer (type)                 Output Shape              Param #   \n",
      "=================================================================\n",
      "flatten_3 (Flatten)          (None, 1690)              0         \n",
      "_________________________________________________________________\n",
      "dense_7 (Dense)              (None, 512)               865792    \n",
      "_________________________________________________________________\n",
      "dropout_1 (Dropout)          (None, 512)               0         \n",
      "_________________________________________________________________\n",
      "dense_8 (Dense)              (None, 256)               131328    \n",
      "_________________________________________________________________\n",
      "dropout_2 (Dropout)          (None, 256)               0         \n",
      "_________________________________________________________________\n",
      "dense_9 (Dense)              (None, 64)                16448     \n",
      "_________________________________________________________________\n",
      "dropout_3 (Dropout)          (None, 64)                0         \n",
      "_________________________________________________________________\n",
      "dense_10 (Dense)             (None, 10)                650       \n",
      "=================================================================\n",
      "Total params: 1,014,218\n",
      "Trainable params: 1,014,218\n",
      "Non-trainable params: 0\n",
      "_________________________________________________________________\n",
      "Epoch 1/50\n",
      "219/219 [==============================] - 4s 16ms/step - loss: 28.2940 - accuracy: 0.1568 - val_loss: 3.8558 - val_accuracy: 0.2798\n",
      "Epoch 2/50\n",
      "219/219 [==============================] - 3s 15ms/step - loss: 8.1170 - accuracy: 0.1791 - val_loss: 3.4541 - val_accuracy: 0.1864\n",
      "Epoch 3/50\n",
      "219/219 [==============================] - 4s 19ms/step - loss: 5.2657 - accuracy: 0.1765 - val_loss: 3.4109 - val_accuracy: 0.2104\n",
      "Epoch 4/50\n",
      "219/219 [==============================] - 4s 16ms/step - loss: 4.3191 - accuracy: 0.1837 - val_loss: 3.4014 - val_accuracy: 0.1851\n",
      "Epoch 5/50\n",
      "219/219 [==============================] - 3s 16ms/step - loss: 3.9065 - accuracy: 0.1804 - val_loss: 3.3823 - val_accuracy: 0.1674\n",
      "Epoch 6/50\n",
      "219/219 [==============================] - 4s 16ms/step - loss: 3.6974 - accuracy: 0.1835 - val_loss: 3.3740 - val_accuracy: 0.1967\n",
      "Epoch 7/50\n",
      "219/219 [==============================] - 4s 17ms/step - loss: 3.6090 - accuracy: 0.1932 - val_loss: 3.3264 - val_accuracy: 0.2194\n",
      "Epoch 8/50\n",
      "219/219 [==============================] - 4s 16ms/step - loss: 3.4962 - accuracy: 0.2108 - val_loss: 3.3188 - val_accuracy: 0.2087\n",
      "Epoch 9/50\n",
      "219/219 [==============================] - 4s 18ms/step - loss: 3.4212 - accuracy: 0.2125 - val_loss: 3.3205 - val_accuracy: 0.2114\n",
      "Epoch 10/50\n",
      "219/219 [==============================] - 4s 20ms/step - loss: 3.4081 - accuracy: 0.2155 - val_loss: 3.2706 - val_accuracy: 0.2317\n",
      "Epoch 11/50\n",
      "219/219 [==============================] - 4s 17ms/step - loss: 3.3629 - accuracy: 0.2214 - val_loss: 3.2490 - val_accuracy: 0.2237\n",
      "Epoch 12/50\n",
      "219/219 [==============================] - 4s 16ms/step - loss: 3.3006 - accuracy: 0.2384 - val_loss: 3.1798 - val_accuracy: 0.2291\n",
      "Epoch 13/50\n",
      "219/219 [==============================] - 4s 17ms/step - loss: 3.2626 - accuracy: 0.2565 - val_loss: 3.1172 - val_accuracy: 0.3071\n",
      "Epoch 14/50\n",
      "219/219 [==============================] - 4s 16ms/step - loss: 3.2226 - accuracy: 0.2735 - val_loss: 3.0670 - val_accuracy: 0.3161\n",
      "Epoch 15/50\n",
      "219/219 [==============================] - 4s 16ms/step - loss: 3.1816 - accuracy: 0.2808 - val_loss: 3.0116 - val_accuracy: 0.3251\n",
      "Epoch 16/50\n",
      "219/219 [==============================] - 4s 17ms/step - loss: 3.1637 - accuracy: 0.2876 - val_loss: 3.0107 - val_accuracy: 0.3244\n",
      "Epoch 17/50\n",
      "219/219 [==============================] - 4s 17ms/step - loss: 3.1226 - accuracy: 0.2930 - val_loss: 3.0044 - val_accuracy: 0.3048\n",
      "Epoch 18/50\n",
      "219/219 [==============================] - 4s 17ms/step - loss: 3.0918 - accuracy: 0.2978 - val_loss: 2.9433 - val_accuracy: 0.3298\n",
      "Epoch 19/50\n",
      "219/219 [==============================] - 4s 17ms/step - loss: 3.0536 - accuracy: 0.2964 - val_loss: 2.9478 - val_accuracy: 0.3284\n",
      "Epoch 20/50\n",
      "219/219 [==============================] - 4s 17ms/step - loss: 3.0095 - accuracy: 0.3058 - val_loss: 2.9135 - val_accuracy: 0.3144\n",
      "Epoch 21/50\n",
      "219/219 [==============================] - 4s 17ms/step - loss: 2.9922 - accuracy: 0.3043 - val_loss: 2.8684 - val_accuracy: 0.3434\n",
      "Epoch 22/50\n",
      "219/219 [==============================] - 4s 16ms/step - loss: 2.9793 - accuracy: 0.3087 - val_loss: 2.8386 - val_accuracy: 0.3501\n",
      "Epoch 23/50\n",
      "219/219 [==============================] - 4s 17ms/step - loss: 2.9351 - accuracy: 0.3161 - val_loss: 2.8335 - val_accuracy: 0.3518\n",
      "Epoch 24/50\n",
      "219/219 [==============================] - 4s 17ms/step - loss: 2.9261 - accuracy: 0.3136 - val_loss: 2.8243 - val_accuracy: 0.3361\n",
      "Epoch 25/50\n",
      "219/219 [==============================] - 4s 17ms/step - loss: 2.8660 - accuracy: 0.3257 - val_loss: 2.7920 - val_accuracy: 0.3635\n",
      "Epoch 26/50\n",
      "219/219 [==============================] - 4s 17ms/step - loss: 2.8608 - accuracy: 0.3256 - val_loss: 2.7697 - val_accuracy: 0.3638\n",
      "Epoch 27/50\n",
      "219/219 [==============================] - 4s 18ms/step - loss: 2.8351 - accuracy: 0.3323 - val_loss: 2.7431 - val_accuracy: 0.3831\n",
      "Epoch 28/50\n",
      "219/219 [==============================] - 4s 18ms/step - loss: 2.8048 - accuracy: 0.3346 - val_loss: 2.7041 - val_accuracy: 0.3618\n",
      "Epoch 29/50\n",
      "219/219 [==============================] - 4s 17ms/step - loss: 2.7921 - accuracy: 0.3279 - val_loss: 2.6883 - val_accuracy: 0.3825\n",
      "Epoch 30/50\n",
      "219/219 [==============================] - 4s 17ms/step - loss: 2.7501 - accuracy: 0.3464 - val_loss: 2.6382 - val_accuracy: 0.3965\n",
      "Epoch 31/50\n",
      "219/219 [==============================] - 4s 17ms/step - loss: 2.7223 - accuracy: 0.3517 - val_loss: 2.6284 - val_accuracy: 0.3995\n",
      "Epoch 32/50\n",
      "219/219 [==============================] - 4s 18ms/step - loss: 2.6688 - accuracy: 0.3553 - val_loss: 2.5861 - val_accuracy: 0.4088\n",
      "Epoch 33/50\n",
      "219/219 [==============================] - 4s 17ms/step - loss: 2.6346 - accuracy: 0.3623 - val_loss: 2.5715 - val_accuracy: 0.3798\n",
      "Epoch 34/50\n",
      "219/219 [==============================] - 5s 21ms/step - loss: 2.6062 - accuracy: 0.3673 - val_loss: 2.5346 - val_accuracy: 0.4148\n",
      "Epoch 35/50\n",
      "219/219 [==============================] - 4s 19ms/step - loss: 2.5762 - accuracy: 0.3759 - val_loss: 2.4977 - val_accuracy: 0.4301\n",
      "Epoch 36/50\n",
      "219/219 [==============================] - 4s 17ms/step - loss: 2.5339 - accuracy: 0.3840 - val_loss: 2.4605 - val_accuracy: 0.4091\n",
      "Epoch 37/50\n",
      "219/219 [==============================] - 3s 15ms/step - loss: 2.4802 - accuracy: 0.3940 - val_loss: 2.4658 - val_accuracy: 0.4608\n",
      "Epoch 38/50\n",
      "219/219 [==============================] - 3s 13ms/step - loss: 2.4672 - accuracy: 0.3982 - val_loss: 2.4123 - val_accuracy: 0.4335\n",
      "Epoch 39/50\n",
      "219/219 [==============================] - 3s 12ms/step - loss: 2.4462 - accuracy: 0.3952 - val_loss: 2.3724 - val_accuracy: 0.4592\n",
      "Epoch 40/50\n",
      "219/219 [==============================] - 3s 12ms/step - loss: 2.4055 - accuracy: 0.4052 - val_loss: 2.3656 - val_accuracy: 0.4488\n",
      "Epoch 41/50\n",
      "219/219 [==============================] - 3s 12ms/step - loss: 2.3612 - accuracy: 0.4150 - val_loss: 2.3652 - val_accuracy: 0.4595\n",
      "Epoch 42/50\n",
      "219/219 [==============================] - 3s 12ms/step - loss: 2.3069 - accuracy: 0.4365 - val_loss: 2.3042 - val_accuracy: 0.4592\n",
      "Epoch 43/50\n",
      "219/219 [==============================] - 3s 12ms/step - loss: 2.3184 - accuracy: 0.4203 - val_loss: 2.3042 - val_accuracy: 0.4585\n",
      "Epoch 44/50\n",
      "219/219 [==============================] - 3s 12ms/step - loss: 2.2656 - accuracy: 0.4326 - val_loss: 2.2545 - val_accuracy: 0.4785\n",
      "Epoch 45/50\n",
      "219/219 [==============================] - 3s 12ms/step - loss: 2.2265 - accuracy: 0.4448 - val_loss: 2.2486 - val_accuracy: 0.4792\n",
      "Epoch 46/50\n",
      "219/219 [==============================] - 3s 12ms/step - loss: 2.1931 - accuracy: 0.4525 - val_loss: 2.1958 - val_accuracy: 0.4832\n",
      "Epoch 47/50\n",
      "219/219 [==============================] - 3s 12ms/step - loss: 2.1367 - accuracy: 0.4552 - val_loss: 2.1691 - val_accuracy: 0.4868\n"
     ]
    },
    {
     "name": "stdout",
     "output_type": "stream",
     "text": [
      "Epoch 48/50\n",
      "219/219 [==============================] - 3s 12ms/step - loss: 2.1266 - accuracy: 0.4622 - val_loss: 2.1656 - val_accuracy: 0.4848\n",
      "Epoch 49/50\n",
      "219/219 [==============================] - 3s 12ms/step - loss: 2.0897 - accuracy: 0.4789 - val_loss: 2.1412 - val_accuracy: 0.4932\n",
      "Epoch 50/50\n",
      "219/219 [==============================] - 3s 12ms/step - loss: 2.0334 - accuracy: 0.4916 - val_loss: 2.0876 - val_accuracy: 0.4948\n"
     ]
    },
    {
     "data": {
      "image/png": "[encoded data removed]",
      "text/plain": [
       "<Figure size 432x288 with 2 Axes>"
      ]
     },
     "metadata": {
      "needs_background": "light"
     },
     "output_type": "display_data"
    }
   ],
   "source": [
    "import json\n",
    "import numpy as np\n",
    "from sklearn.model_selection import train_test_split\n",
    "import tensorflow.keras as keras\n",
    "import matplotlib.pyplot as plt\n",
    "\n",
    "dataset_path = \"genres/data.json\"\n",
    "\n",
    "\n",
    "def load_data(dataset_path):\n",
    "    with open(dataset_path, \"r\") as fp:\n",
    "        data = json.load(fp)\n",
    "\n",
    "    #convert lists into numpy arrays\n",
    "    X = np.array(data[\"mfcc\"])\n",
    "    y = np.array(data[\"labels\"])\n",
    "\n",
    "    return X, y\n",
    "\n",
    "\n",
    "def plot_history(history):\n",
    "\n",
    "    fig, axs = plt.subplots(2)\n",
    "\n",
    "    #create the accuracy subplot\n",
    "    axs[0].plot(history.history[\"accuracy\"], label=\"train accuracy\")\n",
    "    axs[0].plot(history.history[\"val_accuracy\"], label=\"test_accuracy\")\n",
    "    axs[0].set_ylabel(\"Accuracy\")\n",
    "    #axs[0].set_xlabel(\"Epoch\")\n",
    "    axs[0].legend(loc=\"lower right\")\n",
    "    axs[0].set_title(\"Accuracy eval\")\n",
    "\n",
    "    #create error subplot\n",
    "    axs[1].plot(history.history[\"loss\"], label=\"train error\")\n",
    "    axs[1].plot(history.history[\"val_loss\"], label=\"test_error\")\n",
    "    axs[1].set_ylabel(\"Error\")\n",
    "    axs[1].set_xlabel(\"Epoch\")\n",
    "    axs[1].legend(loc=\"upper right\")\n",
    "    axs[1].set_title(\"Error eval\")\n",
    "\n",
    "    plt.show()\n",
    "\n",
    "\n",
    "if __name__ == \"__main__\":\n",
    "\n",
    "    #load data\n",
    "    X, y = load_data(dataset_path)\n",
    "    print(X.shape)\n",
    "\n",
    "    #split the data into train and test sets\n",
    "    X_train, X_test, y_train, y_test = train_test_split(X, y, test_size=0.3)\n",
    "\n",
    "    #build the network architecture\n",
    "    model = keras.Sequential([\n",
    "        #input layer\n",
    "        keras.layers.Flatten(input_shape=(X.shape[1], X.shape[2])),\n",
    "\n",
    "        #relu is better in convergence\n",
    "        #relu reduces the likelihood of vanishing gradient\n",
    "\n",
    "        #1st hidden layer\n",
    "        keras.layers.Dense(512,\n",
    "                           activation=\"relu\",\n",
    "                           kernel_regularizer=keras.regularizers.l2(0.001)),\n",
    "        keras.layers.Dropout(0.3),\n",
    "\n",
    "        #2nd hidden layer\n",
    "        keras.layers.Dense(256,\n",
    "                           activation=\"relu\",\n",
    "                           kernel_regularizer=keras.regularizers.l2(0.001)),\n",
    "        keras.layers.Dropout(0.3),\n",
    "\n",
    "        #3rd hidden layer\n",
    "        keras.layers.Dense(64,\n",
    "                           activation=\"relu\",\n",
    "                           kernel_regularizer=keras.regularizers.l2(0.001)),\n",
    "        keras.layers.Dropout(0.3),\n",
    "        #output layer\n",
    "        keras.layers.Dense(10, activation=\"sigmoid\")\n",
    "    ])\n",
    "\n",
    "    #compile network\n",
    "    optimizer = keras.optimizers.Adam(learning_rate=0.0001)\n",
    "    model.compile(optimizer=optimizer,\n",
    "                  loss=\"sparse_categorical_crossentropy\",\n",
    "                  metrics=[\"accuracy\"])\n",
    "\n",
    "    model.summary()\n",
    "\n",
    "    #train model\n",
    "    history = model.fit(X_train,\n",
    "                        y_train,\n",
    "                        validation_data=(X_test, y_test),\n",
    "                        batch_size=32,\n",
    "                        epochs=50)\n",
    "\n",
    "    #plot accuracy and error over the epochs\n",
    "    plot_history(history)"
   ]
  },
  {
   "cell_type": "markdown",
   "metadata": {},
   "source": [
    "## Solving overfitting"
   ]
  },
  {
   "cell_type": "markdown",
   "metadata": {},
   "source": [
    "(1) simpler architecture: remove layers, decrease number of neurons, no universal rule "
   ]
  },
  {
   "cell_type": "markdown",
   "metadata": {},
   "source": [
    "(2) data augmentation: artificially increase number of training samples, apply transformations to audio files (pitch shifting, time stretching, adding background noise\n"
   ]
  },
  {
   "cell_type": "markdown",
   "metadata": {},
   "source": [
    "(3) early stopping: choose rules to stop training"
   ]
  },
  {
   "cell_type": "markdown",
   "metadata": {},
   "source": [
    "(4) dropout: randomly drop neurons while training, increased netowrk robustness, dropout probability 0.1-0.5"
   ]
  },
  {
   "cell_type": "markdown",
   "metadata": {},
   "source": [
    "(5) regularization: add penalty to error function, punish large weights, L1 and L2\n",
    "\n",
    "L1 regularization: Minimizes absolute value of weights, robust to outliers, generates simple model. $\\lambda$ is the hyper parameter we need to tweak. $E(p.y) = 1/2 \\times (p-y)^2 + \\lambda \\sum |W_i|$\n",
    "\n",
    "L2 regularization: Minimizes square value of weights, not robust to outliers, learns complex patterns. $E(p.y) = 1/2 \\times (p-y)^2 + \\lambda \\sum (W_i)^2$"
   ]
  },
  {
   "cell_type": "markdown",
   "metadata": {},
   "source": []
  }
 ],
 "metadata": {
  "kernelspec": {
   "display_name": "Python 3",
   "language": "python",
   "name": "python3"
  },
  "language_info": {
   "codemirror_mode": {
    "name": "ipython",
    "version": 3
   },
   "file_extension": ".py",
   "mimetype": "text/x-python",
   "name": "python",
   "nbconvert_exporter": "python",
   "pygments_lexer": "ipython3",
   "version": "3.8.5"
  }
 },
 "nbformat": 4,
 "nbformat_minor": 4
}
